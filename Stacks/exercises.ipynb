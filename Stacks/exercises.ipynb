{
 "cells": [
  {
   "attachments": {},
   "cell_type": "markdown",
   "metadata": {},
   "source": [
    "First IN First OUT"
   ]
  },
  {
   "attachments": {},
   "cell_type": "markdown",
   "metadata": {},
   "source": [
    "> **The following problems are taken from leetcode**\n",
    "\n",
    "## Valid Parentheses\n",
    "\n",
    "Given a string s containing just the characters '(', ')', '{', '}', '[' and ']', determine if the input string is valid.\n",
    "\n",
    "An input string is valid if:\n",
    "\n",
    "    Open brackets must be closed by the same type of brackets.\n",
    "    Open brackets must be closed in the correct order.\n",
    "    Every close bracket has a corresponding open bracket of the same type.\n",
    "\n",
    "\n",
    "---\n",
    "> Example 1:\n",
    "\n",
    "    Input: s = \"()\"\n",
    "    Output: true\n",
    "---\n",
    "> Example 2:\n",
    "\n",
    "    Input: s = \"()[]{}\"\n",
    "    Output: true\n",
    "---\n",
    "> Example 3:\n",
    "\n",
    "    Input: s = \"(]\"\n",
    "    Output: false\n",
    "---\n",
    "> Constraints:\n",
    "    \n",
    "    1 <= s.length <= 104\n",
    "    s consists of parentheses only '()[]{}'.\n",
    "\n"
   ]
  },
  {
   "cell_type": "code",
   "execution_count": 17,
   "metadata": {},
   "outputs": [],
   "source": [
    "def isValid(s: str) -> bool:\n",
    "    stack = [char for char in s]\n",
    "    prev_char = None\n",
    "    while stack:\n",
    "        cur_char = ord(stack.pop())\n",
    "        if prev_char is None:\n",
    "            prev_char = cur_char\n",
    "            continue\n",
    "\n",
    "        if (prev_char - cur_char) > 2:\n",
    "            return False\n",
    "        prev_char = None\n",
    "        \n",
    "    return True\n"
   ]
  },
  {
   "cell_type": "code",
   "execution_count": 14,
   "metadata": {},
   "outputs": [
    {
     "data": {
      "text/plain": [
       "True"
      ]
     },
     "execution_count": 14,
     "metadata": {},
     "output_type": "execute_result"
    }
   ],
   "source": [
    "isValid('()[]{}')"
   ]
  },
  {
   "cell_type": "code",
   "execution_count": 15,
   "metadata": {},
   "outputs": [
    {
     "data": {
      "text/plain": [
       "True"
      ]
     },
     "execution_count": 15,
     "metadata": {},
     "output_type": "execute_result"
    }
   ],
   "source": [
    "isValid('()')"
   ]
  },
  {
   "cell_type": "code",
   "execution_count": 16,
   "metadata": {},
   "outputs": [
    {
     "name": "stdout",
     "output_type": "stream",
     "text": [
      "93 40\n"
     ]
    },
    {
     "data": {
      "text/plain": [
       "False"
      ]
     },
     "execution_count": 16,
     "metadata": {},
     "output_type": "execute_result"
    }
   ],
   "source": [
    "isValid('(]')"
   ]
  },
  {
   "attachments": {},
   "cell_type": "markdown",
   "metadata": {},
   "source": [
    "> **The following problems are taken from leetcode**\n",
    "\n",
    "## Min Stack\n",
    "\n",
    "Design a stack that supports push, pop, top, and retrieving the minimum element in constant time.\n",
    "\n",
    "Implement the MinStack class:\n",
    "\n",
    "    MinStack() initializes the stack object.\n",
    "    void push(int val) pushes the element val onto the stack.\n",
    "    void pop() removes the element on the top of the stack.\n",
    "    int top() gets the top element of the stack.\n",
    "    int getMin() retrieves the minimum element in the stack.\n",
    "\n",
    "You must implement a solution with O(1) time complexity for each function.\n",
    "\n",
    "\n",
    "---\n",
    "> Example 1:\n",
    "\n",
    "    Input\n",
    "    [\"MinStack\",\"push\",\"push\",\"push\",\"getMin\",\"pop\",\"top\",\"getMin\"]\n",
    "    [[],[-2],[0],[-3],[],[],[],[]]\n",
    "\n",
    "    Output\n",
    "    [null,null,null,null,-3,null,0,-2]\n",
    "\n",
    "    Explanation\n",
    "    MinStack minStack = new MinStack();\n",
    "    minStack.push(-2);\n",
    "    minStack.push(0);\n",
    "    minStack.push(-3);\n",
    "    minStack.getMin(); // return -3\n",
    "    minStack.pop();\n",
    "    minStack.top();    // return 0\n",
    "    minStack.getMin(); // return -2\n",
    "---\n",
    "> Constraints:\n",
    "    \n",
    "    -231 <= val <= 231 - 1\n",
    "\n",
    "    Methods pop, top and getMin operations will always be called on non-empty stacks.\n",
    "    \n",
    "    At most 3 * 104 calls will be made to push, pop, top, and getMin.\n",
    "\n",
    "\n"
   ]
  },
  {
   "cell_type": "code",
   "execution_count": 7,
   "metadata": {},
   "outputs": [],
   "source": [
    "class MinStack:\n",
    "    def __init__(self, stack) -> None:\n",
    "        self.stack = stack\n",
    "    \n",
    "    def push(self, val: int) -> None:\n",
    "        temp_stack = []\n",
    "        flag_val = True\n",
    "        for item in self.stack:\n",
    "            if flag_val and item == val:\n",
    "                flag_val = False\n",
    "                continue\n",
    "            temp_stack.append(item)\n",
    "        temp_stack.append(val)\n",
    "        self.stack = temp_stack\n",
    "\n",
    "    def pop(self) -> None:\n",
    "        \n",
    "        temp_stack = []\n",
    "        \n",
    "        for i, item in enumerate(self.stack):\n",
    "            if i == len(self.stack) - 1:\n",
    "                break\n",
    "            temp_stack.append(item)\n",
    "        \n",
    "        self.stack = temp_stack \n",
    "    \n",
    "    def top(self) -> int:\n",
    "        return self.stack[-1]\n",
    "    \n",
    "    def get_min(self) -> int:\n",
    "        val_min = None\n",
    "\n",
    "        for item in self.stack:\n",
    "            if item is not None :\n",
    "                if val_min is None:\n",
    "                    val_min = item\n",
    "                if val_min > item:\n",
    "                    val_min = item\n",
    "\n",
    "        return val_min"
   ]
  },
  {
   "cell_type": "code",
   "execution_count": 8,
   "metadata": {},
   "outputs": [
    {
     "name": "stdout",
     "output_type": "stream",
     "text": [
      "-3\n",
      "0\n",
      "-2\n"
     ]
    }
   ],
   "source": [
    "minStack = MinStack([None,-2,0,-3,None,None,None,None])\n",
    "minStack.push(-2)\n",
    "minStack.push(0)\n",
    "minStack.push(-3)\n",
    "print(minStack.get_min()) # return -3\n",
    "minStack.pop()\n",
    "print(minStack.top()) # return 0\n",
    "print(minStack.get_min()) # return -2"
   ]
  },
  {
   "cell_type": "code",
   "execution_count": 10,
   "metadata": {},
   "outputs": [],
   "source": [
    "class MinStack:\n",
    "    def __init__(self):\n",
    "        self.stack = []\n",
    "        self.minStack = []\n",
    "\n",
    "    def push(self, val: int) -> None:\n",
    "        self.stack.append(val)\n",
    "        val = min(val, self.minStack[-1] if self.minStack else val)\n",
    "        self.minStack.append(val)\n",
    "\n",
    "    def pop(self) -> None:\n",
    "        self.stack.pop()\n",
    "        self.minStack.pop()\n",
    "\n",
    "    def top(self) -> int:\n",
    "        return self.stack[-1]\n",
    "\n",
    "    def getMin(self) -> int:\n",
    "        return self.minStack[-1]\n"
   ]
  },
  {
   "cell_type": "code",
   "execution_count": 12,
   "metadata": {},
   "outputs": [
    {
     "name": "stdout",
     "output_type": "stream",
     "text": [
      "-3\n",
      "0\n",
      "-2\n"
     ]
    }
   ],
   "source": [
    "minStack = MinStack()\n",
    "minStack.push(-2)\n",
    "minStack.push(0)\n",
    "minStack.push(-3)\n",
    "print(minStack.getMin()) # return -3\n",
    "minStack.pop()\n",
    "print(minStack.top()) # return 0\n",
    "print(minStack.getMin()) # return -2"
   ]
  },
  {
   "attachments": {},
   "cell_type": "markdown",
   "metadata": {},
   "source": [
    "> **The following problems are taken from leetcode**\n",
    "\n",
    "## Evaluate Reverse Polish Notation\n",
    "\n",
    "You are given an array of strings tokens that represents an arithmetic expression in a Reverse Polish Notation.\n",
    "\n",
    "Evaluate the expression. Return an integer that represents the value of the expression.\n",
    "\n",
    "Note that:\n",
    "\n",
    "    The valid operators are '+', '-', '*', and '/'.\n",
    "    Each operand may be an integer or another expression.\n",
    "    The division between two integers always truncates toward zero.\n",
    "    There will not be any division by zero.\n",
    "    The input represents a valid arithmetic expression in a reverse polish notation.\n",
    "    The answer and all the intermediate calculations can be represented in a 32-bit integer.\n",
    "\n",
    "\n",
    "---\n",
    "> Example 1:\n",
    "\n",
    "    Input: tokens = [\"2\",\"1\",\"+\",\"3\",\"*\"]\n",
    "    Output: 9\n",
    "    Explanation: ((2 + 1) * 3) = 9\n",
    "\n",
    "---\n",
    "> Example 2:\n",
    "\n",
    "    Input: tokens = [\"4\",\"13\",\"5\",\"/\",\"+\"]\n",
    "    Output: 6\n",
    "    Explanation: (4 + (13 / 5)) = 6\n",
    "\n",
    "---\n",
    "> Example 3:\n",
    "\n",
    "    Input: tokens = [\"10\",\"6\",\"9\",\"3\",\"+\",\"-11\",\"*\",\"/\",\"*\",\"17\",\"+\",\"5\",\"+\"]\n",
    "    Output: 22\n",
    "    Explanation: ((10 * (6 / ((9 + 3) * -11))) + 17) + 5\n",
    "    = ((10 * (6 / (12 * -11))) + 17) + 5\n",
    "    = ((10 * (6 / -132)) + 17) + 5\n",
    "    = ((10 * 0) + 17) + 5\n",
    "    = (0 + 17) + 5\n",
    "    = 17 + 5\n",
    "    = 22\n",
    "\n",
    "---\n",
    "> Constraints:\n",
    "    \n",
    "    1 <= tokens.length <= 104\n",
    "    tokens[i] is either an operator: \"+\", \"-\", \"*\", or \"/\", or an integer in the range [-200, 200].\n",
    "\n",
    "\n",
    "\n"
   ]
  },
  {
   "cell_type": "code",
   "execution_count": 93,
   "metadata": {},
   "outputs": [],
   "source": [
    "def evalRPN(tokens: list[str]) -> int:\n",
    "    operators = []\n",
    "    operands = []\n",
    "    for i in range(len(tokens)):\n",
    "        token = tokens.pop()\n",
    "        if token in ['+','-','*','/']:\n",
    "            operands.append(token)\n",
    "        else:\n",
    "            operators.append(token)\n",
    "    print(operands)\n",
    "            \n",
    "    res = None\n",
    "    print(operators)\n",
    "    while len(operators) > 0:\n",
    "    \n",
    "        operator = int(operators.pop())\n",
    "        if res == None:\n",
    "            res = operator\n",
    "            continue\n",
    "\n",
    "        operand = operands.pop()\n",
    "        if operand == '+':\n",
    "            res += operator\n",
    "        elif operand == '-':\n",
    "            res -= operator\n",
    "        elif operand == '*':\n",
    "            res *= operator\n",
    "        elif operand == '/':\n",
    "            res = int(operator / res)\n",
    "        \n",
    "        print(res, operand, operator)\n",
    "    \n",
    "    return res\n"
   ]
  },
  {
   "cell_type": "code",
   "execution_count": 111,
   "metadata": {},
   "outputs": [],
   "source": [
    "def evalRPN(tokens: list[str]) -> int:\n",
    "    buffer = []\n",
    "    res = None\n",
    "    while len(tokens) > 0:\n",
    " \n",
    "        if len(buffer) >= 3 and isinstance(buffer[-1],int) and isinstance(buffer[-2],int):\n",
    "                res = do_operation(buffer)\n",
    "                buffer.append(res)\n",
    "        else:\n",
    "            token = tokens.pop()\n",
    "\n",
    "            if token in ['+','-','*','/']:\n",
    "                buffer.append(token)\n",
    "            else:\n",
    "                buffer.append(int(token))\n",
    "\n",
    "    while len(buffer) >= 3:\n",
    "        res = do_operation(buffer)\n",
    "        buffer.append(res)\n",
    "    return res\n",
    "\n",
    "def do_operation(buffer: list[str or int]) -> int:\n",
    "    opt_1 = buffer.pop()\n",
    "    opt_2 = buffer.pop()\n",
    "    operand = buffer.pop()\n",
    "    \n",
    "    if operand == '+':\n",
    "        res = opt_1 + opt_2\n",
    "    elif operand == '-':\n",
    "        res = opt_1 - opt_2\n",
    "    elif operand == '*':\n",
    "        res = opt_1 * opt_2\n",
    "    elif operand == '/':\n",
    "        res = int(opt_1 / opt_2)\n",
    "    return res\n"
   ]
  },
  {
   "cell_type": "code",
   "execution_count": 119,
   "metadata": {},
   "outputs": [
    {
     "data": {
      "text/plain": [
       "9"
      ]
     },
     "execution_count": 119,
     "metadata": {},
     "output_type": "execute_result"
    }
   ],
   "source": [
    "evalRPN([\"2\",\"1\",\"+\",\"3\",\"*\"])"
   ]
  },
  {
   "cell_type": "code",
   "execution_count": 120,
   "metadata": {},
   "outputs": [
    {
     "data": {
      "text/plain": [
       "6"
      ]
     },
     "execution_count": 120,
     "metadata": {},
     "output_type": "execute_result"
    }
   ],
   "source": [
    "evalRPN([\"4\",\"13\",\"5\",\"/\",\"+\"])"
   ]
  },
  {
   "cell_type": "code",
   "execution_count": 121,
   "metadata": {},
   "outputs": [
    {
     "data": {
      "text/plain": [
       "22"
      ]
     },
     "execution_count": 121,
     "metadata": {},
     "output_type": "execute_result"
    }
   ],
   "source": [
    "evalRPN([\"10\",\"6\",\"9\",\"3\",\"+\",\"-11\",\"*\",\"/\",\"*\",\"17\",\"+\",\"5\",\"+\"])"
   ]
  },
  {
   "cell_type": "code",
   "execution_count": 118,
   "metadata": {},
   "outputs": [],
   "source": [
    "def evalRPN( tokens: list[str]) -> int:\n",
    "    stack = []\n",
    "    for c in tokens:\n",
    "        if c == \"+\":\n",
    "            stack.append(stack.pop() + stack.pop())\n",
    "        elif c == \"-\":\n",
    "            a, b = stack.pop(), stack.pop()\n",
    "            stack.append(b - a)\n",
    "        elif c == \"*\":\n",
    "            stack.append(stack.pop() * stack.pop())\n",
    "        elif c == \"/\":\n",
    "            a, b = stack.pop(), stack.pop()\n",
    "            stack.append(int(b / a))\n",
    "        else:\n",
    "            stack.append(int(c))\n",
    "    return stack[0]"
   ]
  },
  {
   "cell_type": "code",
   "execution_count": null,
   "metadata": {},
   "outputs": [],
   "source": []
  }
 ],
 "metadata": {
  "kernelspec": {
   "display_name": "mlops-course",
   "language": "python",
   "name": "python3"
  },
  "language_info": {
   "codemirror_mode": {
    "name": "ipython",
    "version": 3
   },
   "file_extension": ".py",
   "mimetype": "text/x-python",
   "name": "python",
   "nbconvert_exporter": "python",
   "pygments_lexer": "ipython3",
   "version": "3.9.15"
  },
  "orig_nbformat": 4,
  "vscode": {
   "interpreter": {
    "hash": "d5a431f730b1d766b8e621518229a9f53d2a21820153b6fba4124a01b9477c9d"
   }
  }
 },
 "nbformat": 4,
 "nbformat_minor": 2
}
