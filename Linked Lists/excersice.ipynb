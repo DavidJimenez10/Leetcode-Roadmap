{
 "cells": [
  {
   "attachments": {},
   "cell_type": "markdown",
   "metadata": {},
   "source": [
    "## Reverse Linked List\n",
    "\n",
    "Given the head of a singly linked list, reverse the list, and return the reversed list.\n",
    "\n",
    "\n",
    "---\n",
    "> Example 1:\n",
    "\n",
    "![Example 1](ex_1_reverse_list.png)\n",
    "\n",
    "\n",
    "    Input: head = [1,2,3,4,5]\n",
    "    Output: [5,4,3,2,1]\n",
    "---\n",
    "> Example 2:\n",
    "\n",
    "    Input: head = [1,2]\n",
    "    Output: [2,1]\n",
    "---\n",
    "> Example 3:\n",
    "\n",
    "    Input: head = []\n",
    "    Output: []\n",
    "\n",
    "---\n",
    "> Constraints:\n",
    "\n",
    "    The number of nodes in the list is the range [0, 5000].\n",
    "    -5000 <= Node.val <= 5000\n",
    "\n",
    "Follow up: A linked list can be reversed either iteratively or recursively. Could you implement both?\n",
    "\n",
    "\n",
    "\n"
   ]
  },
  {
   "cell_type": "code",
   "execution_count": 2,
   "metadata": {},
   "outputs": [],
   "source": [
    "from typing import Optional\n",
    "class ListNode:\n",
    "    def __init__(self, val=0, next=None):\n",
    "        self.val = val\n",
    "        self.next = next"
   ]
  },
  {
   "cell_type": "code",
   "execution_count": 3,
   "metadata": {},
   "outputs": [],
   "source": [
    "def reverseList(head: Optional[ListNode]) -> Optional[ListNode]:\n",
    "    \n",
    "    if head.next is not None:\n",
    "        prev_node = reverseList(head.next)\n",
    "\n",
    "    else:\n",
    "        return head\n",
    "    \n",
    "    prev_node.next = head\n",
    "    head.next = None\n",
    "    return head\n",
    "\n",
    "\n"
   ]
  },
  {
   "cell_type": "code",
   "execution_count": 4,
   "metadata": {},
   "outputs": [],
   "source": [
    "x = ListNode(1)\n",
    "y = ListNode(2, x)\n",
    "z = ListNode(3, y)"
   ]
  },
  {
   "cell_type": "code",
   "execution_count": 7,
   "metadata": {},
   "outputs": [
    {
     "data": {
      "text/plain": [
       "3"
      ]
     },
     "execution_count": 7,
     "metadata": {},
     "output_type": "execute_result"
    }
   ],
   "source": [
    "reverseList(z).val"
   ]
  },
  {
   "cell_type": "code",
   "execution_count": 8,
   "metadata": {},
   "outputs": [],
   "source": [
    "# Definition for singly-linked list.\n",
    "# class ListNode:\n",
    "#     def __init__(self, x):\n",
    "#         self.val = x\n",
    "#         self.next = None\n",
    "\n",
    "def reverseList(head: ListNode) -> ListNode:\n",
    "    prev, curr = None, head\n",
    "\n",
    "    while curr:\n",
    "        temp = curr.next\n",
    "        curr.next = prev\n",
    "        prev = curr\n",
    "        curr = temp\n",
    "    return prev\n"
   ]
  },
  {
   "cell_type": "code",
   "execution_count": 9,
   "metadata": {},
   "outputs": [
    {
     "data": {
      "text/plain": [
       "<__main__.ListNode at 0x7fbf344731c0>"
      ]
     },
     "execution_count": 9,
     "metadata": {},
     "output_type": "execute_result"
    }
   ],
   "source": [
    "reverseList(head=z)"
   ]
  },
  {
   "attachments": {},
   "cell_type": "markdown",
   "metadata": {},
   "source": [
    "## Merge Two Sorted Lists\n",
    "\n",
    "You are given the heads of two sorted linked lists list1 and list2.\n",
    "\n",
    "Merge the two lists in a one sorted list. The list should be made by splicing together the nodes of the first two lists.\n",
    "\n",
    "Return the head of the merged linked list.\n",
    "\n",
    "---\n",
    "> Example 1:\n",
    "\n",
    "\n",
    "!['Example 1'](ex_1_merge_sorted_list.png)\n",
    "\n",
    "\n",
    "    Input: list1 = [1,2,4], list2 = [1,3,4]\n",
    "    Output: [1,1,2,3,4,4]\n",
    "---\n",
    "> Example 2:\n",
    "\n",
    "    Input: list1 = [], list2 = []\n",
    "    Output: []\n",
    "---\n",
    "> Example 3:\n",
    "\n",
    "    Input: list1 = [], list2 = [0]\n",
    "    Output: [0]\n",
    "\n",
    "---\n",
    "> Constraints:\n",
    "    \n",
    "    \n",
    "    The number of nodes in both lists is in the range [0, 50].\n",
    "    -100 <= Node.val <= 100\n",
    "    Both list1 and list2 are sorted in non-decreasing order.\n",
    "\n",
    "\n",
    "\n"
   ]
  },
  {
   "cell_type": "code",
   "execution_count": 16,
   "metadata": {},
   "outputs": [],
   "source": [
    "from typing import Optional\n",
    "# Definition for singly-linked list.\n",
    "class ListNode:\n",
    "    def __init__(self, val=0, next=None):\n",
    "        self.val = val\n",
    "        self.next = next\n",
    "\n",
    "def mergeTwoLists(list1: Optional[ListNode], list2: Optional[ListNode]) -> Optional[ListNode]:\n",
    "    if not list1:\n",
    "        return list2\n",
    "    if not list2:\n",
    "        return list1\n",
    "    if list1.val < list2.val:\n",
    "        list1.next = mergeTwoLists(list1.next, list2)\n",
    "        return list1\n",
    "\n",
    "    list2.next = mergeTwoLists(list1, list2.next)\n",
    "    return list2\n"
   ]
  },
  {
   "cell_type": "code",
   "execution_count": 17,
   "metadata": {},
   "outputs": [],
   "source": [
    "list1 = ListNode(1, ListNode(2, ListNode(4)))\n",
    "list2 = ListNode(1, ListNode(2, ListNode(3)))"
   ]
  },
  {
   "cell_type": "code",
   "execution_count": 18,
   "metadata": {},
   "outputs": [
    {
     "name": "stdout",
     "output_type": "stream",
     "text": [
      "1 1\n",
      "1 2\n",
      "2 2\n",
      "2 4\n"
     ]
    },
    {
     "data": {
      "text/plain": [
       "<__main__.ListNode at 0x7f6ea102c370>"
      ]
     },
     "execution_count": 18,
     "metadata": {},
     "output_type": "execute_result"
    }
   ],
   "source": [
    "mergeTwoLists(list1, list2)"
   ]
  },
  {
   "attachments": {},
   "cell_type": "markdown",
   "metadata": {},
   "source": [
    "## Linked List Cycle\n",
    "\n",
    "Given head, the head of a linked list, determine if the linked list has a cycle in it.\n",
    "\n",
    "There is a cycle in a linked list if there is some node in the list that can be reached again by continuously following the next pointer. Internally, pos is used to denote the index of the node that tail's next pointer is connected to. Note that pos is not passed as a parameter.\n",
    "\n",
    "Return true if there is a cycle in the linked list. Otherwise, return false.\n",
    "\n",
    "---\n",
    "> Example 1:\n",
    "\n",
    "!['Example 1'](ex_1_linked_list_cycle.png)\n",
    "\n",
    "    Input: head = [3,2,0,-4], pos = 1\n",
    "    Output: true\n",
    "    Explanation: There is a cycle in the linked list, where the tail connects to the 1st node (0-indexed).\n",
    "\n",
    "---\n",
    "> Example 2:\n",
    "\n",
    "![]()\n",
    "\n",
    "    Input: head = [1,2], pos = 0\n",
    "    Output: true\n",
    "    Explanation: There is a cycle in the linked list, where the tail connects to the 0th node.\n",
    "\n",
    "---\n",
    "> Example 3:\n",
    "\n",
    "    Input: head = [1], pos = -1\n",
    "    Output: false\n",
    "    Explanation: There is no cycle in the linked list.\n",
    "\n",
    "---\n",
    "> Constraints:\n",
    "\n",
    "\n",
    "    The number of the nodes in the list is in the range [0, 104].\n",
    "    -105 <= Node.val <= 105\n",
    "    pos is -1 or a valid index in the linked-list.\n",
    "\n",
    " \n",
    "\n",
    "Follow up: Can you solve it using O(1) (i.e. constant) memory?\n",
    "\n",
    "\n",
    "\n"
   ]
  },
  {
   "cell_type": "code",
   "execution_count": 5,
   "metadata": {},
   "outputs": [],
   "source": [
    "from typing import Optional\n",
    "class ListNode:\n",
    "    def __init__(self, val=0, next=None):\n",
    "        self.val = val\n",
    "        self.next = next\n",
    "        \n",
    "def hasCycle(head: Optional[ListNode]) -> bool:\n",
    "    \n",
    "    unique_items = set()\n",
    "    cont = 0\n",
    "    curr_head = head\n",
    "    while curr_head.next is not None:\n",
    "\n",
    "        unique_items.add(head)\n",
    "        cont += 1\n",
    "        if len(unique_items) != cont:\n",
    "            return True\n",
    "        curr_head = curr_head.next\n",
    "    \n",
    "    return False"
   ]
  },
  {
   "cell_type": "code",
   "execution_count": 10,
   "metadata": {},
   "outputs": [],
   "source": [
    "list1 = ListNode(3, ListNode(2, ListNode(0, ListNode(-4))))\n",
    "list1.next.next.next.next = list1.next\n",
    "hasCycle(head = list1)"
   ]
  },
  {
   "cell_type": "code",
   "execution_count": 12,
   "metadata": {},
   "outputs": [
    {
     "data": {
      "text/plain": [
       "True"
      ]
     },
     "execution_count": 12,
     "metadata": {},
     "output_type": "execute_result"
    }
   ],
   "source": [
    "list1 = ListNode(1, ListNode(2))\n",
    "list1.next.next = list1\n",
    "hasCycle(head = list1)"
   ]
  },
  {
   "cell_type": "code",
   "execution_count": 13,
   "metadata": {},
   "outputs": [
    {
     "data": {
      "text/plain": [
       "False"
      ]
     },
     "execution_count": 13,
     "metadata": {},
     "output_type": "execute_result"
    }
   ],
   "source": [
    "list1 = ListNode(1)\n",
    "hasCycle(head = list1)"
   ]
  },
  {
   "cell_type": "code",
   "execution_count": null,
   "metadata": {},
   "outputs": [],
   "source": [
    "def hasCycle(head: ListNode) -> bool:\n",
    "    slow, fast = head, head\n",
    "\n",
    "    while fast and fast.next:\n",
    "        slow = slow.next\n",
    "        fast = fast.next.next\n",
    "        if slow == fast:\n",
    "            return True\n",
    "    return False"
   ]
  }
 ],
 "metadata": {
  "kernelspec": {
   "display_name": "mlops-course",
   "language": "python",
   "name": "python3"
  },
  "language_info": {
   "codemirror_mode": {
    "name": "ipython",
    "version": 3
   },
   "file_extension": ".py",
   "mimetype": "text/x-python",
   "name": "python",
   "nbconvert_exporter": "python",
   "pygments_lexer": "ipython3",
   "version": "3.9.15"
  },
  "orig_nbformat": 4,
  "vscode": {
   "interpreter": {
    "hash": "d5a431f730b1d766b8e621518229a9f53d2a21820153b6fba4124a01b9477c9d"
   }
  }
 },
 "nbformat": 4,
 "nbformat_minor": 2
}
