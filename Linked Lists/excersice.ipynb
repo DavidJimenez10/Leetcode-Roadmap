{
 "cells": [
  {
   "attachments": {},
   "cell_type": "markdown",
   "metadata": {},
   "source": [
    "## Reverse Linked List\n",
    "\n",
    "Given the head of a singly linked list, reverse the list, and return the reversed list.\n",
    "\n",
    "\n",
    "---\n",
    "> Example 1:\n",
    "\n",
    "![Example 1](ex_1_reverse_list.png)\n",
    "\n",
    "\n",
    "    Input: head = [1,2,3,4,5]\n",
    "    Output: [5,4,3,2,1]\n",
    "---\n",
    "> Example 2:\n",
    "\n",
    "    Input: head = [1,2]\n",
    "    Output: [2,1]\n",
    "---\n",
    "> Example 3:\n",
    "\n",
    "    Input: head = []\n",
    "    Output: []\n",
    "\n",
    "---\n",
    "> Constraints:\n",
    "\n",
    "    The number of nodes in the list is the range [0, 5000].\n",
    "    -5000 <= Node.val <= 5000\n",
    "\n",
    "Follow up: A linked list can be reversed either iteratively or recursively. Could you implement both?\n",
    "\n",
    "\n",
    "\n"
   ]
  },
  {
   "cell_type": "code",
   "execution_count": 2,
   "metadata": {},
   "outputs": [],
   "source": [
    "from typing import Optional\n",
    "class ListNode:\n",
    "    def __init__(self, val=0, next=None):\n",
    "        self.val = val\n",
    "        self.next = next"
   ]
  },
  {
   "cell_type": "code",
   "execution_count": 3,
   "metadata": {},
   "outputs": [],
   "source": [
    "def reverseList(head: Optional[ListNode]) -> Optional[ListNode]:\n",
    "    \n",
    "    if head.next is not None:\n",
    "        prev_node = reverseList(head.next)\n",
    "\n",
    "    else:\n",
    "        return head\n",
    "    \n",
    "    prev_node.next = head\n",
    "    head.next = None\n",
    "    return head\n",
    "\n",
    "\n"
   ]
  },
  {
   "cell_type": "code",
   "execution_count": 4,
   "metadata": {},
   "outputs": [],
   "source": [
    "x = ListNode(1)\n",
    "y = ListNode(2, x)\n",
    "z = ListNode(3, y)"
   ]
  },
  {
   "cell_type": "code",
   "execution_count": 7,
   "metadata": {},
   "outputs": [
    {
     "data": {
      "text/plain": [
       "3"
      ]
     },
     "execution_count": 7,
     "metadata": {},
     "output_type": "execute_result"
    }
   ],
   "source": [
    "reverseList(z).val"
   ]
  },
  {
   "cell_type": "code",
   "execution_count": 8,
   "metadata": {},
   "outputs": [],
   "source": [
    "# Definition for singly-linked list.\n",
    "# class ListNode:\n",
    "#     def __init__(self, x):\n",
    "#         self.val = x\n",
    "#         self.next = None\n",
    "\n",
    "def reverseList(head: ListNode) -> ListNode:\n",
    "    prev, curr = None, head\n",
    "\n",
    "    while curr:\n",
    "        temp = curr.next\n",
    "        curr.next = prev\n",
    "        prev = curr\n",
    "        curr = temp\n",
    "    return prev\n"
   ]
  },
  {
   "cell_type": "code",
   "execution_count": 9,
   "metadata": {},
   "outputs": [
    {
     "data": {
      "text/plain": [
       "<__main__.ListNode at 0x7fbf344731c0>"
      ]
     },
     "execution_count": 9,
     "metadata": {},
     "output_type": "execute_result"
    }
   ],
   "source": [
    "reverseList(head=z)"
   ]
  },
  {
   "attachments": {},
   "cell_type": "markdown",
   "metadata": {},
   "source": [
    "## Merge Two Sorted Lists\n",
    "\n",
    "You are given the heads of two sorted linked lists list1 and list2.\n",
    "\n",
    "Merge the two lists in a one sorted list. The list should be made by splicing together the nodes of the first two lists.\n",
    "\n",
    "Return the head of the merged linked list.\n",
    "\n",
    "---\n",
    "> Example 1:\n",
    "\n",
    "\n",
    "!['Example 1'](ex_1_merge_sorted_list.png)\n",
    "\n",
    "\n",
    "    Input: list1 = [1,2,4], list2 = [1,3,4]\n",
    "    Output: [1,1,2,3,4,4]\n",
    "---\n",
    "> Example 2:\n",
    "\n",
    "    Input: list1 = [], list2 = []\n",
    "    Output: []\n",
    "---\n",
    "> Example 3:\n",
    "\n",
    "    Input: list1 = [], list2 = [0]\n",
    "    Output: [0]\n",
    "\n",
    "---\n",
    "> Constraints:\n",
    "    \n",
    "    \n",
    "    The number of nodes in both lists is in the range [0, 50].\n",
    "    -100 <= Node.val <= 100\n",
    "    Both list1 and list2 are sorted in non-decreasing order.\n",
    "\n",
    "\n",
    "\n"
   ]
  },
  {
   "cell_type": "code",
   "execution_count": 16,
   "metadata": {},
   "outputs": [],
   "source": [
    "from typing import Optional\n",
    "# Definition for singly-linked list.\n",
    "class ListNode:\n",
    "    def __init__(self, val=0, next=None):\n",
    "        self.val = val\n",
    "        self.next = next\n",
    "\n",
    "def mergeTwoLists(list1: Optional[ListNode], list2: Optional[ListNode]) -> Optional[ListNode]:\n",
    "    if not list1:\n",
    "        return list2\n",
    "    if not list2:\n",
    "        return list1\n",
    "    if list1.val < list2.val:\n",
    "        list1.next = mergeTwoLists(list1.next, list2)\n",
    "        return list1\n",
    "\n",
    "    list2.next = mergeTwoLists(list1, list2.next)\n",
    "    return list2\n"
   ]
  },
  {
   "cell_type": "code",
   "execution_count": 17,
   "metadata": {},
   "outputs": [],
   "source": [
    "list1 = ListNode(1, ListNode(2, ListNode(4)))\n",
    "list2 = ListNode(1, ListNode(2, ListNode(3)))"
   ]
  },
  {
   "cell_type": "code",
   "execution_count": 18,
   "metadata": {},
   "outputs": [
    {
     "name": "stdout",
     "output_type": "stream",
     "text": [
      "1 1\n",
      "1 2\n",
      "2 2\n",
      "2 4\n"
     ]
    },
    {
     "data": {
      "text/plain": [
       "<__main__.ListNode at 0x7f6ea102c370>"
      ]
     },
     "execution_count": 18,
     "metadata": {},
     "output_type": "execute_result"
    }
   ],
   "source": [
    "mergeTwoLists(list1, list2)"
   ]
  },
  {
   "attachments": {},
   "cell_type": "markdown",
   "metadata": {},
   "source": [
    "## Linked List Cycle\n",
    "\n",
    "Given head, the head of a linked list, determine if the linked list has a cycle in it.\n",
    "\n",
    "There is a cycle in a linked list if there is some node in the list that can be reached again by continuously following the next pointer. Internally, pos is used to denote the index of the node that tail's next pointer is connected to. Note that pos is not passed as a parameter.\n",
    "\n",
    "Return true if there is a cycle in the linked list. Otherwise, return false.\n",
    "\n",
    "---\n",
    "> Example 1:\n",
    "\n",
    "!['Example 1'](ex_1_linked_list_cycle.png)\n",
    "\n",
    "    Input: head = [3,2,0,-4], pos = 1\n",
    "    Output: true\n",
    "    Explanation: There is a cycle in the linked list, where the tail connects to the 1st node (0-indexed).\n",
    "\n",
    "---\n",
    "> Example 2:\n",
    "\n",
    "![]()\n",
    "\n",
    "    Input: head = [1,2], pos = 0\n",
    "    Output: true\n",
    "    Explanation: There is a cycle in the linked list, where the tail connects to the 0th node.\n",
    "\n",
    "---\n",
    "> Example 3:\n",
    "\n",
    "    Input: head = [1], pos = -1\n",
    "    Output: false\n",
    "    Explanation: There is no cycle in the linked list.\n",
    "\n",
    "---\n",
    "> Constraints:\n",
    "\n",
    "\n",
    "    The number of the nodes in the list is in the range [0, 104].\n",
    "    -105 <= Node.val <= 105\n",
    "    pos is -1 or a valid index in the linked-list.\n",
    "\n",
    " \n",
    "\n",
    "Follow up: Can you solve it using O(1) (i.e. constant) memory?\n",
    "\n",
    "\n",
    "\n"
   ]
  },
  {
   "cell_type": "code",
   "execution_count": 5,
   "metadata": {},
   "outputs": [],
   "source": [
    "from typing import Optional\n",
    "class ListNode:\n",
    "    def __init__(self, val=0, next=None):\n",
    "        self.val = val\n",
    "        self.next = next\n",
    "        \n",
    "def hasCycle(head: Optional[ListNode]) -> bool:\n",
    "    \n",
    "    unique_items = set()\n",
    "    cont = 0\n",
    "    curr_head = head\n",
    "    while curr_head.next is not None:\n",
    "\n",
    "        unique_items.add(head)\n",
    "        cont += 1\n",
    "        if len(unique_items) != cont:\n",
    "            return True\n",
    "        curr_head = curr_head.next\n",
    "    \n",
    "    return False"
   ]
  },
  {
   "cell_type": "code",
   "execution_count": 10,
   "metadata": {},
   "outputs": [],
   "source": [
    "list1 = ListNode(3, ListNode(2, ListNode(0, ListNode(-4))))\n",
    "list1.next.next.next.next = list1.next\n",
    "hasCycle(head = list1)"
   ]
  },
  {
   "cell_type": "code",
   "execution_count": 12,
   "metadata": {},
   "outputs": [
    {
     "data": {
      "text/plain": [
       "True"
      ]
     },
     "execution_count": 12,
     "metadata": {},
     "output_type": "execute_result"
    }
   ],
   "source": [
    "list1 = ListNode(1, ListNode(2))\n",
    "list1.next.next = list1\n",
    "hasCycle(head = list1)"
   ]
  },
  {
   "cell_type": "code",
   "execution_count": 13,
   "metadata": {},
   "outputs": [
    {
     "data": {
      "text/plain": [
       "False"
      ]
     },
     "execution_count": 13,
     "metadata": {},
     "output_type": "execute_result"
    }
   ],
   "source": [
    "list1 = ListNode(1)\n",
    "hasCycle(head = list1)"
   ]
  },
  {
   "cell_type": "code",
   "execution_count": null,
   "metadata": {},
   "outputs": [],
   "source": [
    "def hasCycle(head: ListNode) -> bool:\n",
    "    slow, fast = head, head\n",
    "\n",
    "    while fast and fast.next:\n",
    "        slow = slow.next\n",
    "        fast = fast.next.next\n",
    "        if slow == fast:\n",
    "            return True\n",
    "    return False"
   ]
  },
  {
   "attachments": {},
   "cell_type": "markdown",
   "metadata": {},
   "source": [
    "## Reorder List\n",
    "\n",
    "You are given the head of a singly linked-list. The list can be represented as:\n",
    "\n",
    "L0 → L1 → … → Ln - 1 → Ln\n",
    "\n",
    "Reorder the list to be on the following form:\n",
    "\n",
    "L0 → Ln → L1 → Ln - 1 → L2 → Ln - 2 → …\n",
    "\n",
    "You may not modify the values in the list's nodes. Only nodes themselves may be changed.\n",
    "\n",
    "---\n",
    "> Example 1:\n",
    "\n",
    "    Input: head = [1,2,3,4]\n",
    "    Output: [1,4,2,3]\n",
    "\n",
    "---\n",
    "> Example 2:\n",
    "\n",
    "!['Example 2'](ex_2_reorder.jpg)\n",
    "\n",
    "    Input: head = [1,2,3,4,5]\n",
    "    Output: [1,5,2,4,3]\n",
    "\n",
    "---\n",
    "> Constraints:\n",
    "\n",
    "\n",
    "    \n",
    "    The number of nodes in the list is in the range [1, 5 * 104].\n",
    "    1 <= Node.val <= 1000\n"
   ]
  },
  {
   "cell_type": "code",
   "execution_count": 18,
   "metadata": {},
   "outputs": [],
   "source": [
    "class ListNode:\n",
    "    def __init__(self, val=0, next=None):\n",
    "        self.val = val\n",
    "        self.next = next\n",
    "    def __repr__(self) -> str:\n",
    "        item = self\n",
    "        list_items = []\n",
    "        while item.next:\n",
    "            list_items.append(item.val)\n",
    "            item = item.next\n",
    "        list_items.append(item.val)\n",
    "        return str(list_items)\n",
    "\n",
    "\n",
    "def reorderList(head: Optional[ListNode]) -> None:\n",
    "    prev_node = head\n",
    "    while prev_node and prev_node.next:\n",
    "        last_node = getLastNode(prev_node)\n",
    "\n",
    "        last_node.next = prev_node.next \n",
    "        \n",
    "        prev_node.next = last_node\n",
    "        \n",
    "        prev_node = last_node.next\n",
    "\n",
    "    return head\n",
    "\n",
    "def getLastNode( head: Optional[ListNode]) -> ListNode:\n",
    "    while head.next.next:\n",
    "        return getLastNode(head.next)\n",
    "    last_node = head.next\n",
    "    head.next = None\n",
    "    return last_node"
   ]
  },
  {
   "cell_type": "code",
   "execution_count": 19,
   "metadata": {},
   "outputs": [
    {
     "data": {
      "text/plain": [
       "[1, 4, 2, 3]"
      ]
     },
     "execution_count": 19,
     "metadata": {},
     "output_type": "execute_result"
    }
   ],
   "source": [
    "list1 = ListNode(1, ListNode(2, ListNode(3, ListNode(4))))\n",
    "reorderList(list1)"
   ]
  },
  {
   "cell_type": "code",
   "execution_count": 20,
   "metadata": {},
   "outputs": [
    {
     "data": {
      "text/plain": [
       "[1, 5, 2, 4, 3]"
      ]
     },
     "execution_count": 20,
     "metadata": {},
     "output_type": "execute_result"
    }
   ],
   "source": [
    "list1 = ListNode(1, ListNode(2, ListNode(3, ListNode(4,ListNode(5)))))\n",
    "reorderList(list1)"
   ]
  },
  {
   "attachments": {},
   "cell_type": "markdown",
   "metadata": {},
   "source": [
    "## Remove Nth Node From End of List\n",
    "\n",
    "Given the head of a linked list, remove the nth node from the end of the list and return its head.\n",
    "\n",
    "---\n",
    "> Example 1:\n",
    "\n",
    "!['Example 1'](ex_1_remove_node.jpg)\n",
    "\n",
    "    Input: head = [1,2,3,4,5], n = 2\n",
    "    Output: [1,2,3,5]\n",
    "\n",
    "---\n",
    "> Example 2:\n",
    "\n",
    "    Input: head = [1], n = 1\n",
    "    Output: []\n",
    "\n",
    "---\n",
    "> Example 3:\n",
    "\n",
    "    Input: head = [1,2], n = 1\n",
    "    Output: [1]\n",
    "\n",
    "---\n",
    "> Constraints:\n",
    "\n",
    "    The number of nodes in the list is sz.\n",
    "    1 <= sz <= 30\n",
    "    0 <= Node.val <= 100\n",
    "    1 <= n <= sz\n",
    "\n"
   ]
  },
  {
   "cell_type": "code",
   "execution_count": 16,
   "metadata": {},
   "outputs": [],
   "source": [
    "from typing import Optional, Union\n",
    "class ListNode:\n",
    "    def __init__(self, val=0, next=None):\n",
    "        self.val = val\n",
    "        self.next = next\n",
    "    def __repr__(self) -> str:\n",
    "        item = self\n",
    "        list_items = []\n",
    "        while item.next:\n",
    "            list_items.append(item.val)\n",
    "            item = item.next\n",
    "        list_items.append(item.val)\n",
    "        return str(list_items)\n",
    "    \n",
    "def removeNthFromEnd(head: Optional[ListNode], n: int) -> Optional[ListNode]:\n",
    "    return cross_linked_list(head, n)[0]\n",
    "\n",
    "\n",
    "def cross_linked_list(head: Optional[ListNode], n: int) -> Union[Optional[ListNode],int]:\n",
    "    prev_node = None\n",
    "    if head.next:\n",
    "        prev_node, cont = cross_linked_list(head.next, n)\n",
    "        cont += 1\n",
    "    else:\n",
    "        cont = 1       \n",
    "    \n",
    "    if cont == n:\n",
    "        return prev_node, cont\n",
    "\n",
    "    head.next = prev_node\n",
    "    \n",
    "    return head, cont"
   ]
  },
  {
   "cell_type": "code",
   "execution_count": 17,
   "metadata": {},
   "outputs": [
    {
     "data": {
      "text/plain": [
       "[1, 2, 3, 5]"
      ]
     },
     "execution_count": 17,
     "metadata": {},
     "output_type": "execute_result"
    }
   ],
   "source": [
    "list1 = ListNode(1, ListNode(2, ListNode(3, ListNode(4,ListNode(5)))))\n",
    "removeNthFromEnd(list1, 2)"
   ]
  },
  {
   "cell_type": "code",
   "execution_count": 18,
   "metadata": {},
   "outputs": [],
   "source": [
    "list1 = ListNode(1)\n",
    "removeNthFromEnd(list1, 1)"
   ]
  },
  {
   "cell_type": "code",
   "execution_count": 19,
   "metadata": {},
   "outputs": [
    {
     "data": {
      "text/plain": [
       "[1]"
      ]
     },
     "execution_count": 19,
     "metadata": {},
     "output_type": "execute_result"
    }
   ],
   "source": [
    "list1 = ListNode(1, ListNode(2,))\n",
    "removeNthFromEnd(list1, 1)"
   ]
  },
  {
   "attachments": {},
   "cell_type": "markdown",
   "metadata": {},
   "source": [
    "## Copy List with Random Pointer\n",
    "\n",
    "A linked list of length n is given such that each node contains an additional random pointer, which could point to any node in the list, or null.\n",
    "\n",
    "Construct a deep copy of the list. The deep copy should consist of exactly n brand new nodes, where each new node has its value set to the value of its corresponding original node. Both the next and random pointer of the new nodes should point to new nodes in the copied list such that the pointers in the original list and copied list represent the same list state. None of the pointers in the new list should point to nodes in the original list.\n",
    "\n",
    "For example, if there are two nodes X and Y in the original list, where X.random --> Y, then for the corresponding two nodes x and y in the copied list, x.random --> y.\n",
    "\n",
    "Return the head of the copied linked list.\n",
    "\n",
    "The linked list is represented in the input/output as a list of n nodes. Each node is represented as a pair of [val, random_index] where:\n",
    "\n",
    "    val: an integer representing Node.val\n",
    "    random_index: the index of the node (range from 0 to n-1) that the random pointer points to, or null if it does not point to any node.\n",
    "\n",
    "Your code will only be given the head of the original linked list.\n",
    "\n",
    "---\n",
    "> Example 1:\n",
    "\n",
    "!['Example 1'](ex_1_copy_list_random_pointer.png)\n",
    "\n",
    "    Input: head = [[7,null],[13,0],[11,4],[10,2],[1,0]]\n",
    "    Output: [[7,null],[13,0],[11,4],[10,2],[1,0]]\n",
    "\n",
    "---\n",
    "> Example 2:\n",
    "\n",
    "!['Example 2'](ex_2_copy_list_random_pointer.png)\n",
    "\n",
    "    Input: head = [[1,1],[2,1]]\n",
    "    Output: [[1,1],[2,1]]\n",
    "\n",
    "---\n",
    "> Example 3:\n",
    "\n",
    "!['Example 3'](ex_3_copy_list_random_pointer.png)\n",
    "\n",
    "    Input: head = [[3,null],[3,0],[3,null]]\n",
    "    Output: [[3,null],[3,0],[3,null]]\n",
    "\n",
    "---\n",
    "> Constraints:\n",
    "\n",
    "    0 <= n <= 1000\n",
    "    -104 <= Node.val <= 104\n",
    "    Node.random is null or is pointing to some node in the linked list.\n",
    "\n",
    "\n"
   ]
  },
  {
   "cell_type": "code",
   "execution_count": 49,
   "metadata": {},
   "outputs": [],
   "source": [
    "#from typing import Optional\n",
    "class Node:\n",
    "    def __init__(self, x: int, next: 'Node' = None, random: 'Node' = None):\n",
    "        self.val = int(x)\n",
    "        self.next = next\n",
    "        self.random = random\n",
    "    \n",
    "    def __repr__(self) -> str:\n",
    "        item = self\n",
    "        list_items = []\n",
    "        while item.next:\n",
    "            list_items.append((item.val,item.random))\n",
    "            item = item.next\n",
    "        list_items.append((item.val,item.random))\n",
    "        return str(list_items)\n",
    "\n",
    "def copyRandomList(head: 'Optional[Node]') -> 'Optional[Node]':\n",
    "    \n",
    "    node_list = dict()\n",
    "    prev_node = None\n",
    "    head_list = head\n",
    "    while head:\n",
    "\n",
    "        curr_node = Node(head.val)        \n",
    "        node_list[head] = curr_node\n",
    "        \n",
    "        if prev_node is not None:\n",
    "            prev_node.next = curr_node          \n",
    "        else:\n",
    "            head_copy_list = curr_node\n",
    "\n",
    "        prev_node = curr_node\n",
    "        head = head.next\n",
    "    \n",
    "    head = head_list\n",
    "\n",
    "    while head:\n",
    "        copy_node = node_list[head]\n",
    "        random_copy_node = None\n",
    "        if head.random is not None: \n",
    "            random_copy_node = node_list[head.random]\n",
    "        copy_node.random = random_copy_node\n",
    "        head = head.next\n",
    "\n",
    "    return head_copy_list\n",
    "    "
   ]
  },
  {
   "cell_type": "code",
   "execution_count": 50,
   "metadata": {},
   "outputs": [],
   "source": [
    "list1 = Node(7,Node(13,Node(11,Node(10,Node(1)))))\n",
    "list1.random = None\n",
    "list1.next.random = list1\n",
    "list1.next.next.random = list1.next.next.next.next\n",
    "list1.next.next.next.random = list1.next.next\n",
    "list1.next.next.next.next.random = list1"
   ]
  },
  {
   "cell_type": "code",
   "execution_count": 69,
   "metadata": {},
   "outputs": [],
   "source": [
    "import sys\n",
    "sys.setrecursionlimit(100000)"
   ]
  },
  {
   "cell_type": "code",
   "execution_count": 66,
   "metadata": {},
   "outputs": [
    {
     "data": {
      "text/plain": [
       "7"
      ]
     },
     "execution_count": 66,
     "metadata": {},
     "output_type": "execute_result"
    }
   ],
   "source": [
    "list1.next.next.next.next.random.val"
   ]
  },
  {
   "cell_type": "code",
   "execution_count": 70,
   "metadata": {},
   "outputs": [
    {
     "ename": "",
     "evalue": "",
     "output_type": "error",
     "traceback": [
      "\u001b[1;31mCanceled future for execute_request message before replies were done"
     ]
    },
    {
     "ename": "",
     "evalue": "",
     "output_type": "error",
     "traceback": [
      "\u001b[1;31mThe Kernel crashed while executing code in the the current cell or a previous cell. Please review the code in the cell(s) to identify a possible cause of the failure. Click <a href='https://aka.ms/vscodeJupyterKernelCrash'>here</a> for more info. View Jupyter <a href='command:jupyter.viewOutput'>log</a> for further details."
     ]
    }
   ],
   "source": [
    "copyRandomList(list1)"
   ]
  },
  {
   "cell_type": "code",
   "execution_count": null,
   "metadata": {},
   "outputs": [],
   "source": []
  }
 ],
 "metadata": {
  "kernelspec": {
   "display_name": "mlops-course",
   "language": "python",
   "name": "python3"
  },
  "language_info": {
   "codemirror_mode": {
    "name": "ipython",
    "version": 3
   },
   "file_extension": ".py",
   "mimetype": "text/x-python",
   "name": "python",
   "nbconvert_exporter": "python",
   "pygments_lexer": "ipython3",
   "version": "3.9.15"
  },
  "orig_nbformat": 4,
  "vscode": {
   "interpreter": {
    "hash": "d5a431f730b1d766b8e621518229a9f53d2a21820153b6fba4124a01b9477c9d"
   }
  }
 },
 "nbformat": 4,
 "nbformat_minor": 2
}
