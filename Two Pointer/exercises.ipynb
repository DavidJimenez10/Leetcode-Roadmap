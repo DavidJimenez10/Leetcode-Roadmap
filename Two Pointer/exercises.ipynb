{
 "cells": [
  {
   "attachments": {},
   "cell_type": "markdown",
   "metadata": {},
   "source": [
    "- Sorted array or string\n",
    "- set of elements Ex: 2 elements of the array\n",
    "- **contrain (operation + target)** Ex: given and array(1,2,3,4) find 2 numbers whose sum is equals to 3"
   ]
  },
  {
   "attachments": {},
   "cell_type": "markdown",
   "metadata": {},
   "source": [
    "> **The following problems are taken from leetcode**\n",
    "\n",
    "## Valid Palindrome\n",
    "\n",
    "\n",
    "A phrase is a palindrome if, after converting all uppercase letters into lowercase letters and removing all non-alphanumeric characters, it reads the same forward and backward. Alphanumeric characters include letters and numbers.\n",
    "\n",
    "Given a string s, return true if it is a palindrome, or false otherwise.\n",
    "\n",
    "---\n",
    "> Example 1:\n",
    "\n",
    "    Input: s = \"A man, a plan, a canal: Panama\"\n",
    "    Output: true\n",
    "    Explanation: \"amanaplanacanalpanama\" is a palindrome.\n",
    "---\n",
    "> Example 2:\n",
    "\n",
    "    Input: s = \"race a car\"\n",
    "    Output: false\n",
    "    Explanation: \"raceacar\" is not a palindrome.\n",
    "\n",
    "---\n",
    "> Example 3:\n",
    "\n",
    "    Input: s = \" \"\n",
    "    Output: true\n",
    "    Explanation: s is an empty string \"\" after removing non-alphanumeric characters.\n",
    "    Since an empty string reads the same forward and backward, it is a palindrome.\n",
    "---\n",
    "> Constraints:\n",
    "\n",
    "    1 <= s.length <= 2 * 105\n",
    "    s consists only of printable ASCII characters.\n",
    "\n"
   ]
  },
  {
   "cell_type": "code",
   "execution_count": 14,
   "metadata": {},
   "outputs": [],
   "source": [
    "def isPalindrome(s: str) -> str:\n",
    "    s_alnum = []\n",
    "    for letter in s:\n",
    "        if (65 <= ord(letter) <= 90):\n",
    "            s_alnum.append(letter.lower())\n",
    "        elif (97 <= ord(letter) <= 122) or (48 <= ord(letter) <= 57):\n",
    "            s_alnum.append(letter)\n",
    "    \n",
    "\n",
    "    for i in range(len(s_alnum)//2):\n",
    "        if s_alnum[i] != s_alnum[-(i+1)]:\n",
    "            return False\n",
    "\n",
    "    return True"
   ]
  },
  {
   "cell_type": "code",
   "execution_count": 32,
   "metadata": {},
   "outputs": [],
   "source": [
    "class Solution():\n",
    "    @staticmethod\n",
    "    def isPalindrome(s: str) -> bool:\n",
    "        l, r = 0, len(s)-1\n",
    "        while l < r:\n",
    "            while l < r and not Solution.isAlphaNum(s[l]):\n",
    "                l += 1\n",
    "            while l < r and not Solution.isAlphaNum(s[r]):\n",
    "                r -= 1\n",
    "            if s[l].lower() != s[r].lower():\n",
    "                print(s[l].lower(), s[r].lower())\n",
    "                return False\n",
    "            l += 1\n",
    "            r -= 1\n",
    "        return True\n",
    "    @staticmethod\n",
    "    def isAlphaNum(char: str) -> bool:\n",
    "        return  ord('A') <= ord(char) <= ord('Z') or \\\n",
    "                ord('a') <= ord(char) <= ord('z') or \\\n",
    "                ord('0') <= ord(char) <= ord('9')\n"
   ]
  },
  {
   "cell_type": "code",
   "execution_count": 28,
   "metadata": {},
   "outputs": [
    {
     "data": {
      "text/plain": [
       "True"
      ]
     },
     "execution_count": 28,
     "metadata": {},
     "output_type": "execute_result"
    }
   ],
   "source": [
    "Solution.isPalindrome(\"A man, a plan, a canal: Panama\")"
   ]
  },
  {
   "cell_type": "code",
   "execution_count": 30,
   "metadata": {},
   "outputs": [
    {
     "name": "stdout",
     "output_type": "stream",
     "text": [
      "e a\n"
     ]
    },
    {
     "data": {
      "text/plain": [
       "False"
      ]
     },
     "execution_count": 30,
     "metadata": {},
     "output_type": "execute_result"
    }
   ],
   "source": [
    "Solution.isPalindrome(\"race a car\")"
   ]
  },
  {
   "cell_type": "code",
   "execution_count": 33,
   "metadata": {},
   "outputs": [
    {
     "data": {
      "text/plain": [
       "True"
      ]
     },
     "execution_count": 33,
     "metadata": {},
     "output_type": "execute_result"
    }
   ],
   "source": [
    "Solution.isPalindrome(\" \")"
   ]
  },
  {
   "attachments": {},
   "cell_type": "markdown",
   "metadata": {},
   "source": [
    "> **The following problems are taken from leetcode**\n",
    "\n",
    "## Two Sum II - Input Array Is Sorted\n",
    "\n",
    "\n",
    "\n",
    "Given a 1-indexed array of integers numbers that is already sorted in non-decreasing order, find two numbers such that they add up to a specific target number. Let these two numbers be numbers[index1] and numbers[index2] where 1 <= index1 < index2 <= numbers.length.\n",
    "\n",
    "Return the indices of the two numbers, index1 and index2, added by one as an integer array [index1, index2] of length 2.\n",
    "\n",
    "The tests are generated such that there is exactly one solution. You may not use the same element twice.\n",
    "\n",
    "Your solution must use only constant extra space.\n",
    "\n",
    "---\n",
    "> Example 1:\n",
    "\n",
    "    Input: numbers = [2,7,11,15], target = 9\n",
    "    Output: [1,2]\n",
    "    Explanation: The sum of 2 and 7 is 9. Therefore, index1 = 1, index2 = 2. We return [1, 2].\n",
    "\n",
    "---\n",
    "> Example 2:\n",
    "\n",
    "    Input: numbers = [2,3,4], target = 6\n",
    "    Output: [1,3]\n",
    "    Explanation: The sum of 2 and 4 is 6. Therefore index1 = 1, index2 = 3. We return [1, 3].\n",
    "\n",
    "---\n",
    "> Example 3:\n",
    "\n",
    "    Input: numbers = [-1,0], target = -1\n",
    "    Output: [1,2]\n",
    "    Explanation: The sum of -1 and 0 is -1. Therefore index1 = 1, index2 = 2. We return [1, 2].\n",
    "---\n",
    "> Constraints:\n",
    "\n",
    "\n",
    "    2 <= numbers.length <= 3 * 104\n",
    "    -1000 <= numbers[i] <= 1000\n",
    "    numbers is sorted in non-decreasing order.\n",
    "    -1000 <= target <= 1000\n",
    "    The tests are generated such that there is exactly one solution.\n",
    "\n",
    "\n"
   ]
  },
  {
   "cell_type": "code",
   "execution_count": 26,
   "metadata": {},
   "outputs": [],
   "source": [
    "def twoSum(numbers: list[int], target: int) -> list[int]:\n",
    "    l, r = 0, len(numbers)-1\n",
    "    \n",
    "    while r > 1 and numbers[r] > target:\n",
    "        r -= 1\n",
    "\n",
    "    while l<=r:\n",
    "        summation = numbers[l] + numbers[r]\n",
    "        if  summation > target:\n",
    "            r -= 1\n",
    "            continue\n",
    "        if summation < target:\n",
    "            l += 1\n",
    "            continue\n",
    "        if summation == target:\n",
    "             return [x+1 for x in [l, r]]\n",
    "    \n",
    "        "
   ]
  },
  {
   "cell_type": "code",
   "execution_count": 15,
   "metadata": {},
   "outputs": [
    {
     "data": {
      "text/plain": [
       "[1, 2]"
      ]
     },
     "execution_count": 15,
     "metadata": {},
     "output_type": "execute_result"
    }
   ],
   "source": [
    "twoSum(numbers = [2,7,11,15], target = 9)"
   ]
  },
  {
   "cell_type": "code",
   "execution_count": 16,
   "metadata": {},
   "outputs": [
    {
     "data": {
      "text/plain": [
       "[1, 3]"
      ]
     },
     "execution_count": 16,
     "metadata": {},
     "output_type": "execute_result"
    }
   ],
   "source": [
    "twoSum(numbers = [2,3,4], target = 6)"
   ]
  },
  {
   "cell_type": "code",
   "execution_count": 27,
   "metadata": {},
   "outputs": [
    {
     "name": "stdout",
     "output_type": "stream",
     "text": [
      "0 1\n",
      "0 -1\n",
      "0 1\n"
     ]
    },
    {
     "data": {
      "text/plain": [
       "[1, 2]"
      ]
     },
     "execution_count": 27,
     "metadata": {},
     "output_type": "execute_result"
    }
   ],
   "source": [
    "twoSum(numbers = [-1,0], target = -1)"
   ]
  },
  {
   "attachments": {},
   "cell_type": "markdown",
   "metadata": {},
   "source": [
    "> **The following problems are taken from leetcode**\n",
    "\n",
    "## 3Sum\n",
    "\n",
    "\n",
    "Given an integer array nums, return all the triplets [nums[i], nums[j], nums[k]] such that i != j, i != k, and j != k, and nums[i] + nums[j] + nums[k] == 0.\n",
    "\n",
    "Notice that the solution set must not contain duplicate triplets.\n",
    "\n",
    "---\n",
    "> Example 1:\n",
    "\n",
    "    Input: nums = [-1,0,1,2,-1,-4]\n",
    "    Output: [[-1,-1,2],[-1,0,1]]\n",
    "    Explanation: \n",
    "    nums[0] + nums[1] + nums[2] = (-1) + 0 + 1 = 0.\n",
    "    nums[1] + nums[2] + nums[4] = 0 + 1 + (-1) = 0.\n",
    "    nums[0] + nums[3] + nums[4] = (-1) + 2 + (-1) = 0.\n",
    "    The distinct triplets are [-1,0,1] and [-1,-1,2].\n",
    "    Notice that the order of the output and the order of the triplets does not matter.\n",
    "\n",
    "\n",
    "---\n",
    "> Example 2:\n",
    "\n",
    "    Input: nums = [0,1,1]\n",
    "    Output: []\n",
    "    Explanation: The only possible triplet does not sum up to 0.\n",
    "\n",
    "---\n",
    "> Example 3:\n",
    "\n",
    "    Input: nums = [0,0,0]\n",
    "    Output: [[0,0,0]]\n",
    "    Explanation: The only possible triplet sums up to 0.\n",
    "\n",
    "---\n",
    "> Constraints:\n",
    "\n",
    "\n",
    "    3 <= nums.length <= 3000\n",
    "    -105 <= nums[i] <= 105\n"
   ]
  },
  {
   "cell_type": "code",
   "execution_count": 35,
   "metadata": {},
   "outputs": [],
   "source": [
    "def threeSum(nums: list[int]) -> list[list[int]]:\n",
    "    triplets = dict()\n",
    "    for i, num in enumerate(nums[:-2]):\n",
    "        \n",
    "        j = i+1\n",
    "\n",
    "        while j <= len(nums)-2:\n",
    "        \n",
    "            k = j+1\n",
    "        \n",
    "            while k <= len(nums)-1:\n",
    "\n",
    "                if num + nums[j] + nums[k] == 0:\n",
    "                    value = [num, nums[j], nums[k]]\n",
    "                    str_value = \"\".join([str(num) for num in value])\n",
    "                    key = sum(map(lambda x: ord(x), str_value))\n",
    "                    triplets[key] = value\n",
    "\n",
    "                k += 1\n",
    "\n",
    "            j += 1\n",
    "\n",
    "    return list(triplets.values())"
   ]
  },
  {
   "cell_type": "code",
   "execution_count": 36,
   "metadata": {},
   "outputs": [
    {
     "data": {
      "text/plain": [
       "[['0', '1', '-1'], ['-1', '2', '-1']]"
      ]
     },
     "execution_count": 36,
     "metadata": {},
     "output_type": "execute_result"
    }
   ],
   "source": [
    "threeSum([-1,0,1,2,-1,-4])"
   ]
  },
  {
   "cell_type": "code",
   "execution_count": 37,
   "metadata": {},
   "outputs": [
    {
     "data": {
      "text/plain": [
       "[]"
      ]
     },
     "execution_count": 37,
     "metadata": {},
     "output_type": "execute_result"
    }
   ],
   "source": [
    "threeSum([0,1,1])"
   ]
  },
  {
   "cell_type": "code",
   "execution_count": 38,
   "metadata": {},
   "outputs": [
    {
     "data": {
      "text/plain": [
       "[['0', '0', '0']]"
      ]
     },
     "execution_count": 38,
     "metadata": {},
     "output_type": "execute_result"
    }
   ],
   "source": [
    "threeSum([0,0,0])"
   ]
  },
  {
   "cell_type": "code",
   "execution_count": null,
   "metadata": {},
   "outputs": [],
   "source": [
    "def threeSum(self, nums: list[int]) -> list[list[int]]:\n",
    "    res = []\n",
    "    nums.sort()\n",
    "\n",
    "    for i, a in enumerate(nums):\n",
    "        # Skip positive integers\n",
    "        if a > 0:\n",
    "            break\n",
    "\n",
    "        if i > 0 and a == nums[i - 1]:\n",
    "            continue\n",
    "\n",
    "        l, r = i + 1, len(nums) - 1\n",
    "        while l < r:\n",
    "            threeSum = a + nums[l] + nums[r]\n",
    "            if threeSum > 0:\n",
    "                r -= 1\n",
    "            elif threeSum < 0:\n",
    "                l += 1\n",
    "            else:\n",
    "                res.append([a, nums[l], nums[r]])\n",
    "                l += 1\n",
    "                r -= 1\n",
    "                while nums[l] == nums[l - 1] and l < r:\n",
    "                    l += 1\n",
    "    return res"
   ]
  },
  {
   "attachments": {},
   "cell_type": "markdown",
   "metadata": {},
   "source": [
    "> **The following problems are taken from leetcode**\n",
    "\n",
    "## Container With Most Water\n",
    "\n",
    "You are given an integer array height of length n. There are n vertical lines drawn such that the two endpoints of the ith line are (i, 0) and (i, height[i]).\n",
    "\n",
    "Find two lines that together with the x-axis form a container, such that the container contains the most water.\n",
    "\n",
    "Return the maximum amount of water a container can store.\n",
    "\n",
    "Notice that you may not slant the container.\n",
    "\n",
    "---\n",
    "> Example 1:\n",
    "\n",
    "!['Example 1'](container_water_ex1.jpg)\n",
    "\n",
    "    Input: height = [1,8,6,2,5,4,8,3,7]\n",
    "    Output: 49\n",
    "    Explanation: The above vertical lines are represented by array [1,8,6,2,5,4,8,3,7]. In this case, the max area of water (blue section) the container can contain is 49.\n",
    "\n",
    "---\n",
    "> Example 2:\n",
    "\n",
    "    Input: height = [1,1]\n",
    "    Output: 1\n",
    "\n",
    "---\n",
    "> Constraints:\n",
    "\n",
    "    n == height.length\n",
    "    2 <= n <= 105\n",
    "    0 <= height[i] <= 104\n",
    "\n"
   ]
  },
  {
   "cell_type": "code",
   "execution_count": 8,
   "metadata": {},
   "outputs": [],
   "source": [
    "from typing import List\n",
    "def maxArea(height: List[int]) -> int:\n",
    "    l = 0\n",
    "    r = len(height) - 1 \n",
    "    while l < r:\n",
    "        width =  r - l\n",
    "        min_height = min(height[l],height[r])\n",
    "        max_height = max(height[l],height[r])\n",
    "        volume = width * min_height\n",
    "        #print(f'min {min_height} max {max_height} width {width} volume {volume}')\n",
    "        if height[l+1] > max_height:\n",
    "            l += 1\n",
    "            continue\n",
    "        if height[r-1] > max_height:\n",
    "            r -= 1\n",
    "            continue\n",
    "        \n",
    "        return volume\n",
    "     \n"
   ]
  },
  {
   "cell_type": "code",
   "execution_count": 10,
   "metadata": {},
   "outputs": [
    {
     "data": {
      "text/plain": [
       "49"
      ]
     },
     "execution_count": 10,
     "metadata": {},
     "output_type": "execute_result"
    }
   ],
   "source": [
    "height = [1,8,6,2,5,4,8,3,7]\n",
    "maxArea(height)"
   ]
  },
  {
   "cell_type": "code",
   "execution_count": 9,
   "metadata": {},
   "outputs": [
    {
     "data": {
      "text/plain": [
       "1"
      ]
     },
     "execution_count": 9,
     "metadata": {},
     "output_type": "execute_result"
    }
   ],
   "source": [
    "height = [1,1]\n",
    "maxArea(height)"
   ]
  },
  {
   "attachments": {},
   "cell_type": "markdown",
   "metadata": {},
   "source": []
  }
 ],
 "metadata": {
  "kernelspec": {
   "display_name": "mlops-course",
   "language": "python",
   "name": "python3"
  },
  "language_info": {
   "codemirror_mode": {
    "name": "ipython",
    "version": 3
   },
   "file_extension": ".py",
   "mimetype": "text/x-python",
   "name": "python",
   "nbconvert_exporter": "python",
   "pygments_lexer": "ipython3",
   "version": "3.9.15"
  },
  "orig_nbformat": 4,
  "vscode": {
   "interpreter": {
    "hash": "d5a431f730b1d766b8e621518229a9f53d2a21820153b6fba4124a01b9477c9d"
   }
  }
 },
 "nbformat": 4,
 "nbformat_minor": 2
}
