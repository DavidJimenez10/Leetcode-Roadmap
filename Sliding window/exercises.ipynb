{
 "cells": [
  {
   "attachments": {},
   "cell_type": "markdown",
   "metadata": {},
   "source": [
    "> **The following problems are taken from leetcode**\n",
    "\n",
    "## Best Time to Buy and Sell Stock\n",
    "\n",
    "You are given an array prices where prices[i] is the price of a given stock on the ith day.\n",
    "\n",
    "You want to maximize your profit by choosing a single day to buy one stock and choosing a different day in the future to sell that stock.\n",
    "\n",
    "Return the maximum profit you can achieve from this transaction. If you cannot achieve any profit, return 0.\n",
    "\n",
    "\n",
    "---\n",
    "> Example 1:\n",
    "\n",
    "    Input: prices = [7,1,5,3,6,4]\n",
    "    Output: 5\n",
    "    Explanation: Buy on day 2 (price = 1) and sell on day 5 (price = 6), profit = 6-1 = 5.\n",
    "    Note that buying on day 2 and selling on day 1 is not allowed because you must buy before you sell.\n",
    "---\n",
    "> Example 2:\n",
    "\n",
    "    Input: prices = [7,6,4,3,1]\n",
    "    Output: 0\n",
    "    Explanation: In this case, no transactions are done and the max profit = 0.\n",
    "---\n",
    "> Constraints:\n",
    "    \n",
    "    1 <= prices.length <= 105\n",
    "    0 <= prices[i] <= 104\n",
    "\n",
    "\n"
   ]
  },
  {
   "cell_type": "code",
   "execution_count": 11,
   "metadata": {},
   "outputs": [],
   "source": [
    "def maxProfit(prices: list[int]) -> int:\n",
    "    \n",
    "    max_profit = 0\n",
    "    \n",
    "    for i in range(len(prices)-1):\n",
    "        \n",
    "        profit = 0\n",
    "        profit -= prices[i]\n",
    "        profit += prices[i+1]\n",
    "        \n",
    "        for j in range(i+2, len(prices) - 1):\n",
    "\n",
    "            profit -= prices[j-1]\n",
    "            profit += prices[j]\n",
    "            max_profit = max(profit, max_profit)\n",
    "\n",
    "\n",
    "    return max_profit\n"
   ]
  },
  {
   "cell_type": "code",
   "execution_count": 12,
   "metadata": {},
   "outputs": [
    {
     "data": {
      "text/plain": [
       "5"
      ]
     },
     "execution_count": 12,
     "metadata": {},
     "output_type": "execute_result"
    }
   ],
   "source": [
    "maxProfit(prices = [7,1,5,3,6,4])"
   ]
  },
  {
   "cell_type": "code",
   "execution_count": 13,
   "metadata": {},
   "outputs": [
    {
     "data": {
      "text/plain": [
       "0"
      ]
     },
     "execution_count": 13,
     "metadata": {},
     "output_type": "execute_result"
    }
   ],
   "source": [
    "maxProfit(prices = [7,6,4,3,1])"
   ]
  },
  {
   "cell_type": "code",
   "execution_count": null,
   "metadata": {},
   "outputs": [],
   "source": [
    "def maxProfit(prices: list[int]) -> int:\n",
    "    res = 0\n",
    "    \n",
    "    lowest = prices[0]\n",
    "    for price in prices:\n",
    "        if price < lowest:\n",
    "            lowest = price\n",
    "        res = max(res, price - lowest)\n",
    "    return res"
   ]
  },
  {
   "attachments": {},
   "cell_type": "markdown",
   "metadata": {},
   "source": [
    "\n",
    "## Longest Substring Without Repeating Characters\n",
    "\n",
    "Given a string s, find the length of the longest substring without repeating characters.\n",
    "\n",
    "\n",
    "---\n",
    "> Example 1:\n",
    "\n",
    "    Input: s = \"abcabcbb\"\n",
    "    Output: 3\n",
    "    Explanation: The answer is \"abc\", with the length of 3.\n",
    "---\n",
    "> Example 2:\n",
    "\n",
    "    Input: s = \"bbbbb\"\n",
    "    Output: 1\n",
    "    Explanation: The answer is \"b\", with the length of 1.\n",
    "---\n",
    "> Example 3:\n",
    "\n",
    "    Input: s = \"pwwkew\"\n",
    "    Output: 3\n",
    "    Explanation: The answer is \"wke\", with the length of 3.\n",
    "    Notice that the answer must be a substring, \"pwke\" is a subsequence and not a substring.\n",
    "\n",
    "---\n",
    "> Constraints:\n",
    "    \n",
    "    0 <= s.length <= 5 * 104\n",
    "    s consists of English letters, digits, symbols and spaces.\n",
    "\n",
    "\n",
    "\n"
   ]
  },
  {
   "cell_type": "code",
   "execution_count": 18,
   "metadata": {},
   "outputs": [],
   "source": [
    "def lengthOfLongestSubstring(s: str) -> int:\n",
    "    max_len = 0\n",
    "    contigous_char = []\n",
    "    for char in s:\n",
    "        if char in contigous_char:\n",
    "            max_len = max(max_len, len(contigous_char))\n",
    "            contigous_char = []\n",
    "    \n",
    "        contigous_char.append(char)\n",
    "    return max_len\n"
   ]
  },
  {
   "cell_type": "code",
   "execution_count": 15,
   "metadata": {},
   "outputs": [
    {
     "data": {
      "text/plain": [
       "3"
      ]
     },
     "execution_count": 15,
     "metadata": {},
     "output_type": "execute_result"
    }
   ],
   "source": [
    "lengthOfLongestSubstring(s = \"abcabcbb\")"
   ]
  },
  {
   "cell_type": "code",
   "execution_count": 16,
   "metadata": {},
   "outputs": [
    {
     "data": {
      "text/plain": [
       "1"
      ]
     },
     "execution_count": 16,
     "metadata": {},
     "output_type": "execute_result"
    }
   ],
   "source": [
    "lengthOfLongestSubstring(s = \"bbbbb\")"
   ]
  },
  {
   "cell_type": "code",
   "execution_count": 19,
   "metadata": {},
   "outputs": [
    {
     "data": {
      "text/plain": [
       "3"
      ]
     },
     "execution_count": 19,
     "metadata": {},
     "output_type": "execute_result"
    }
   ],
   "source": [
    "lengthOfLongestSubstring(s = \"pwwkew\")"
   ]
  },
  {
   "cell_type": "code",
   "execution_count": null,
   "metadata": {},
   "outputs": [],
   "source": [
    "def lengthOfLongestSubstring(s: str) -> int:\n",
    "    charSet = set()\n",
    "    l = 0\n",
    "    res = 0\n",
    "\n",
    "    for r in range(len(s)):\n",
    "        while s[r] in charSet:\n",
    "            charSet.remove(s[l])\n",
    "            l += 1\n",
    "        charSet.add(s[r])\n",
    "        res = max(res, r - l + 1)\n",
    "    return res"
   ]
  },
  {
   "cell_type": "code",
   "execution_count": 20,
   "metadata": {},
   "outputs": [],
   "source": [
    "char_set = set()"
   ]
  },
  {
   "cell_type": "code",
   "execution_count": 28,
   "metadata": {},
   "outputs": [],
   "source": [
    "char_set.add(6)"
   ]
  },
  {
   "cell_type": "code",
   "execution_count": 30,
   "metadata": {},
   "outputs": [],
   "source": [
    "char_set.remove(1)"
   ]
  },
  {
   "cell_type": "code",
   "execution_count": 31,
   "metadata": {},
   "outputs": [
    {
     "data": {
      "text/plain": [
       "{2, 3, 4, 5, 6}"
      ]
     },
     "execution_count": 31,
     "metadata": {},
     "output_type": "execute_result"
    }
   ],
   "source": [
    "char_set"
   ]
  },
  {
   "attachments": {},
   "cell_type": "markdown",
   "metadata": {},
   "source": [
    "## Longest Repeating Character Replacement\n",
    "\n",
    "You are given a string s and an integer k. You can choose any character of the string and change it to any other uppercase English character. You can perform this operation at most k times.\n",
    "\n",
    "Return the length of the longest substring containing the same letter you can get after performing the above operations.\n",
    "\n",
    "---\n",
    "> Example 1:\n",
    "\n",
    "    Input: s = \"ABAB\", k = 2\n",
    "    Output: 4\n",
    "    Explanation: Replace the two 'A's with two 'B's or vice versa.\n",
    "---\n",
    "> Example 2:\n",
    "\n",
    "    Input: s = \"AABABBA\", k = 1\n",
    "    Output: 4\n",
    "    Explanation: Replace the one 'A' in the middle with 'B' and form \"AABBBBA\".\n",
    "    The substring \"BBBB\" has the longest repeating letters, which is 4.\n",
    "\n",
    "---\n",
    "> Constraints:\n",
    "        \n",
    "    1 <= s.length <= 105\n",
    "    s consists of only uppercase English letters.\n",
    "    0 <= k <= s.length\n",
    "\n",
    "\n",
    "\n"
   ]
  },
  {
   "cell_type": "code",
   "execution_count": 1,
   "metadata": {},
   "outputs": [],
   "source": [
    "def characterReplacement(s: str, k: int):\n",
    "    start = 0\n",
    "    window = max_window = 1\n",
    "    cont_k = k\n",
    "\n",
    "    while start + window < len(s):\n",
    "        curr_letter =  s[start]\n",
    "        last_letter =  s[start + window]\n",
    "    \n",
    "        if ord(curr_letter)-ord(last_letter) != 0:\n",
    "                \n",
    "            if not (cont_k > 0):\n",
    "                cont_k = k\n",
    "                start = next_start\n",
    "                window = 1\n",
    "                continue\n",
    "\n",
    "            if cont_k == k:\n",
    "                next_start = start + window\n",
    "\n",
    "            cont_k -= 1\n",
    "        \n",
    "        window += 1\n",
    "        max_window = max(max_window, window)\n",
    "        \n",
    "    \n",
    "    return max_window\n",
    "        "
   ]
  },
  {
   "cell_type": "code",
   "execution_count": 2,
   "metadata": {},
   "outputs": [
    {
     "data": {
      "text/plain": [
       "4"
      ]
     },
     "execution_count": 2,
     "metadata": {},
     "output_type": "execute_result"
    }
   ],
   "source": [
    "characterReplacement(s = \"ABAB\", k = 2)"
   ]
  },
  {
   "cell_type": "code",
   "execution_count": 6,
   "metadata": {},
   "outputs": [
    {
     "name": "stdout",
     "output_type": "stream",
     "text": [
      "{'A': 1}\n",
      "{'A': 2}\n",
      "{'A': 2, 'B': 1}\n",
      "{'A': 3, 'B': 1}\n",
      "{'A': 2, 'B': 2}\n",
      "{'A': 1, 'B': 3}\n",
      "{'A': 2, 'B': 2}\n"
     ]
    },
    {
     "data": {
      "text/plain": [
       "4"
      ]
     },
     "execution_count": 6,
     "metadata": {},
     "output_type": "execute_result"
    }
   ],
   "source": [
    "characterReplacement(s = \"AABABBA\", k = 1)\n"
   ]
  },
  {
   "cell_type": "code",
   "execution_count": 5,
   "metadata": {},
   "outputs": [],
   "source": [
    "def characterReplacement(s: str, k: int) -> int:\n",
    "    count = {}\n",
    "    res = 0\n",
    "\n",
    "    l = 0\n",
    "    maxf = 0\n",
    "    for r in range(len(s)):\n",
    "        count[s[r]] = 1 + count.get(s[r], 0)\n",
    "        maxf = max(maxf, count[s[r]])\n",
    "\n",
    "        if (r - l + 1) - maxf > k:\n",
    "            count[s[l]] -= 1\n",
    "            l += 1\n",
    "\n",
    "        res = max(res, r - l + 1)\n",
    "    return res"
   ]
  },
  {
   "cell_type": "code",
   "execution_count": null,
   "metadata": {},
   "outputs": [],
   "source": []
  }
 ],
 "metadata": {
  "kernelspec": {
   "display_name": "mlops-course",
   "language": "python",
   "name": "python3"
  },
  "language_info": {
   "codemirror_mode": {
    "name": "ipython",
    "version": 3
   },
   "file_extension": ".py",
   "mimetype": "text/x-python",
   "name": "python",
   "nbconvert_exporter": "python",
   "pygments_lexer": "ipython3",
   "version": "3.9.15"
  },
  "orig_nbformat": 4,
  "vscode": {
   "interpreter": {
    "hash": "d5a431f730b1d766b8e621518229a9f53d2a21820153b6fba4124a01b9477c9d"
   }
  }
 },
 "nbformat": 4,
 "nbformat_minor": 2
}
