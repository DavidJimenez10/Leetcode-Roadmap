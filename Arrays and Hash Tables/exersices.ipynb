{
 "cells": [
  {
   "attachments": {},
   "cell_type": "markdown",
   "metadata": {},
   "source": [
    "> **The following problems are taken from leetcode**\n",
    "\n",
    "## Contains duplicates\n",
    "\n",
    "Given an integer array nums, return true if any value appears at least twice in the array, and return false if every element is distinct.\n",
    "\n",
    "\n",
    "---\n",
    "> Example 1:\n",
    "\n",
    "    Input: nums = [1,2,3,1]\n",
    "    Output: true\n",
    "---\n",
    "> Example 2:\n",
    "\n",
    "    Input: nums = [1,2,3,4]\n",
    "    Output: false\n",
    "---\n",
    "> Example 3:\n",
    "\n",
    "    Input: nums = [1,1,1,3,3,4,3,2,4,2]\n",
    "    Output: true\n",
    "---\n",
    "> Constraints:\n",
    "\n",
    "    1 <= nums.length <= 105\n",
    "    -109 <= nums[i] <= 109\n"
   ]
  },
  {
   "cell_type": "code",
   "execution_count": 14,
   "metadata": {},
   "outputs": [],
   "source": [
    "def containsDuplicate(nums: list[int]) -> bool:\n",
    "        hashset = set()\n",
    "\n",
    "        for n in nums:\n",
    "            if n in hashset:\n",
    "                return True\n",
    "            hashset.add(n)\n",
    "        return False\n",
    "                "
   ]
  },
  {
   "cell_type": "code",
   "execution_count": 15,
   "metadata": {},
   "outputs": [
    {
     "data": {
      "text/plain": [
       "True"
      ]
     },
     "execution_count": 15,
     "metadata": {},
     "output_type": "execute_result"
    }
   ],
   "source": [
    "containsDuplicate([1,2,3,1])"
   ]
  },
  {
   "cell_type": "code",
   "execution_count": 16,
   "metadata": {},
   "outputs": [
    {
     "data": {
      "text/plain": [
       "False"
      ]
     },
     "execution_count": 16,
     "metadata": {},
     "output_type": "execute_result"
    }
   ],
   "source": [
    "containsDuplicate([1,2,3,4])"
   ]
  },
  {
   "cell_type": "code",
   "execution_count": 17,
   "metadata": {},
   "outputs": [
    {
     "data": {
      "text/plain": [
       "True"
      ]
     },
     "execution_count": 17,
     "metadata": {},
     "output_type": "execute_result"
    }
   ],
   "source": [
    "containsDuplicate([1,1,1,3,3,4,3,2,4,2])"
   ]
  },
  {
   "attachments": {},
   "cell_type": "markdown",
   "metadata": {},
   "source": [
    "## Valid Anagram\n",
    "\n",
    "Given two strings s and t, return true if t is an anagram of s, and false otherwise.\n",
    "An Anagram is a word or phrase formed by rearranging the letters of a different word or phrase, typically using all the original letters exactly once.\n",
    "\n",
    " \n",
    "---\n",
    "> Example 1:\n",
    "\n",
    "    Input: s = \"anagram\", t = \"nagaram\"\n",
    "    Output: true\n",
    "---\n",
    "> Example 2:\n",
    "\n",
    "    Input: s = \"rat\", t = \"car\"\n",
    "    Output: false\n",
    "---\n",
    "> Constraints:\n",
    "\n",
    "    1 <= s.length, t.length <= 5 * 10^4\n",
    "    s and t consist of lowercase English letters.\n",
    "---\n",
    " \n",
    "Follow up: What if the inputs contain Unicode characters? How would you adapt your solution to such a case?\n"
   ]
  },
  {
   "cell_type": "code",
   "execution_count": 18,
   "metadata": {},
   "outputs": [],
   "source": [
    "def validAnagram(s: str, t: str):\n",
    "    \n",
    "    if len(s) != len(t):\n",
    "        return False\n",
    "    \n",
    "    for letter in s:\n",
    "        if s.count(letter) != t.count(letter):\n",
    "            return False\n",
    "    \n",
    "    return True"
   ]
  },
  {
   "cell_type": "code",
   "execution_count": 23,
   "metadata": {},
   "outputs": [],
   "source": [
    "def validAnagram(s: str, t: str):\n",
    "    if len(s) != len(t):\n",
    "        return False\n",
    "    \n",
    "    count_s, count_t = {}, {}\n",
    "\n",
    "    for i in range(len(s)):\n",
    "        count_s[s[i]] = 1 + count_s.get(s[i], 0)\n",
    "        count_t[t[i]] = 1 + count_t.get(t[i], 0)\n",
    "\n",
    "    return count_s == count_t"
   ]
  },
  {
   "cell_type": "code",
   "execution_count": 24,
   "metadata": {},
   "outputs": [
    {
     "data": {
      "text/plain": [
       "True"
      ]
     },
     "execution_count": 24,
     "metadata": {},
     "output_type": "execute_result"
    }
   ],
   "source": [
    "s = \"anagram\"\n",
    "t = \"nagaram\"\n",
    "validAnagram(s, t)"
   ]
  },
  {
   "cell_type": "code",
   "execution_count": 25,
   "metadata": {},
   "outputs": [
    {
     "data": {
      "text/plain": [
       "False"
      ]
     },
     "execution_count": 25,
     "metadata": {},
     "output_type": "execute_result"
    }
   ],
   "source": [
    "s = \"rat\"\n",
    "t = \"car\"\n",
    "validAnagram(s, t)"
   ]
  },
  {
   "cell_type": "code",
   "execution_count": null,
   "metadata": {},
   "outputs": [],
   "source": []
  }
 ],
 "metadata": {
  "kernelspec": {
   "display_name": "mlops-course",
   "language": "python",
   "name": "python3"
  },
  "language_info": {
   "codemirror_mode": {
    "name": "ipython",
    "version": 3
   },
   "file_extension": ".py",
   "mimetype": "text/x-python",
   "name": "python",
   "nbconvert_exporter": "python",
   "pygments_lexer": "ipython3",
   "version": "3.9.15"
  },
  "orig_nbformat": 4,
  "vscode": {
   "interpreter": {
    "hash": "d5a431f730b1d766b8e621518229a9f53d2a21820153b6fba4124a01b9477c9d"
   }
  }
 },
 "nbformat": 4,
 "nbformat_minor": 2
}
